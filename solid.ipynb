{
 "cells": [
  {
   "cell_type": "markdown",
   "id": "e8557cd8",
   "metadata": {
    "slideshow": {
     "slide_type": "slide"
    }
   },
   "source": [
    "# SOLID Softwaredesign\n",
    "\n"
   ]
  },
  {
   "cell_type": "markdown",
   "id": "d7d4dc51",
   "metadata": {
    "slideshow": {
     "slide_type": "subslide"
    }
   },
   "source": [
    "## Hva er SOLID?\n",
    "\n",
    "Acronym for:\n",
    "- **S**ingle Responsibility (SRP)\n",
    "- **O**pen/Closed (OCP)\n",
    "- **L**iskov Substitution (LSP)\n",
    "- **I**nterface Segregation (ISP)\n",
    "- **D**ependency Inversion (DIP)\n",
    "\n"
   ]
  },
  {
   "cell_type": "markdown",
   "id": "76a48693",
   "metadata": {
    "slideshow": {
     "slide_type": "subslide"
    }
   },
   "source": [
    "## Hvorfor SOLID?\n",
    "\n",
    "Ikke en **silver bullet**\n",
    "\n",
    "\n",
    "Muligjør software som er:\n",
    "\n",
    " - testbar\n",
    " - robust\n",
    " - vedlikeholdbar\n",
    " - gjenbrukbar\n",
    " "
   ]
  },
  {
   "cell_type": "markdown",
   "id": "5eacf110",
   "metadata": {
    "slideshow": {
     "slide_type": "subslide"
    }
   },
   "source": [
    "![jenga](solid-jenga.jpg)"
   ]
  },
  {
   "cell_type": "markdown",
   "id": "0fed8e98",
   "metadata": {
    "slideshow": {
     "slide_type": "slide"
    }
   },
   "source": [
    "## Single Responsibility - (SRP) \n",
    "\n",
    "Generelt prinsipp for software komponenter.\n",
    "\n",
    "- Samle ting som endrer seg av samme grunn\n",
    "\n",
    "- Spre ting som endrer seg av forskjellig grunn\n",
    "\n",
    "- komponenten har ansvarforhold til èn actor(db, sensor, bruker, ...)\n",
    "    - **ikke helt det samme som at komponenten gjør èn ting**\n",
    "\n"
   ]
  },
  {
   "cell_type": "code",
   "execution_count": 1,
   "id": "b7aa2c70",
   "metadata": {
    "slideshow": {
     "slide_type": "subslide"
    }
   },
   "outputs": [],
   "source": [
    "\n",
    "class JugglingPatternGenerator:\n",
    "\n",
    "    def generate441():\n",
    "        # genererings logikk\n",
    "        pass\n",
    "\n",
    "    def generate531():\n",
    "        # genererings logikk\n",
    "        pass\n",
    "\n",
    "    def generate55551():\n",
    "        # genererings logikk\n",
    "        pass\n",
    "\n",
    "    def save_pattern_to_db(pattern):\n",
    "        # software for å koble til databasen\n",
    "        # håndering av feil i tilkobling\n",
    "        # litt SQL her for å lagre sjongleringsmønsteret\n",
    "        pass\n",
    "\n",
    "\n",
    "    def simulateJuggling(pattern):\n",
    "        # placeholder: logikk for å simulerer sjongering \n",
    "        pass\n",
    "\n",
    "    def displayPattern(pattern, index, fractionDigits, color):\n",
    "        # vise options, color, size, speed etc\n",
    "        pass\n",
    "\n",
    "    def logHandler(message, logOption):\n",
    "        # logging logic etc\n",
    "        pass\n"
   ]
  },
  {
   "cell_type": "code",
   "execution_count": 2,
   "id": "42806581",
   "metadata": {
    "slideshow": {
     "slide_type": "subslide"
    }
   },
   "outputs": [],
   "source": [
    "class JugglingPatternGenerator:\n",
    "\n",
    "    def generate441():\n",
    "        # genereringslogikk\n",
    "        pass\n",
    "\n",
    "    def generate531():\n",
    "        # genereringslogikk\n",
    "        pass\n",
    "\n",
    "    def generate55551():\n",
    "        # genereringslogikk\n",
    "        pass\n",
    "\n",
    "\n",
    "class Simulator:\n",
    "    def simulateJuggling(pattern):\n",
    "        # logikk for sjonglering simulering\n",
    "        pass\n",
    "\n",
    "    def displayPattern(pattern, index, fractionDigits, color):\n",
    "        # logikk for visning av sjongleringsmønster\n",
    "        pass\n",
    "\n",
    "    \n",
    "class Logger:\n",
    "    def logHandler(message, logOption):\n",
    "        # håndering av logging logging\n",
    "        # ... mer logikk exceptions, bla, bla, bla\n",
    "        pass\n"
   ]
  },
  {
   "cell_type": "markdown",
   "id": "23935c45",
   "metadata": {
    "slideshow": {
     "slide_type": "subslide"
    }
   },
   "source": [
    "### Single Responsibility kan brukes på flere nivåer\n",
    "\n",
    "- **Større kompositte/monolitiske komponenter**\n",
    "  - *Common Closure*\n",
    "\n",
    "\n",
    "- **Prosjektstrukture/organisering**\n",
    "```bash\n",
    "Dokumenter:\n",
    "\n",
    "    - dokumentController.ts\n",
    "    - dokumentService.ts\n",
    "    - dokumentRepository.ts\n",
    "    - dokumentTyper.ts\n",
    "```"
   ]
  },
  {
   "cell_type": "markdown",
   "id": "b6051a1d",
   "metadata": {
    "slideshow": {
     "slide_type": "subslide"
    }
   },
   "source": [
    "![single responsibility](srp.jpg)"
   ]
  },
  {
   "cell_type": "markdown",
   "id": "bb60b9a3",
   "metadata": {
    "slideshow": {
     "slide_type": "slide"
    }
   },
   "source": [
    "##  Open/Closed - (OCP)\n",
    "\n",
    "- Holde komponenter åpne for utvidelser, men stengt for endring\n",
    "\n",
    "- Kunne utvide feature til en komponent, uten å måtte endre komponenten\n",
    "\n",
    "- Eksempel: VS Code\n",
    "\n",
    "\n"
   ]
  },
  {
   "cell_type": "code",
   "execution_count": 3,
   "id": "af3b558c",
   "metadata": {
    "slideshow": {
     "slide_type": "subslide"
    }
   },
   "outputs": [],
   "source": [
    "class JugglingSimulator:\n",
    "    \n",
    "    def simulate(pattern, kind):\n",
    "        # logic and rendering for juggling simulation movements\n",
    "        if kind == \"air\":\n",
    "            # logikk for vanlig sjonglering baller\n",
    "            pass\n",
    "        elif kind == \"bounce\":\n",
    "            # logikk for bouncejuggling (sprettball sjonglering)\n",
    "            pass\n",
    "        pass\n",
    "\n",
    "    def displayPattern(pattern, index, fractionDigits, color):\n",
    "        # display options, color, size, speed etc\n",
    "        pass\n",
    "\n",
    "\n",
    "sim = JugglingSimulator.simulate(441, \"bounce\")"
   ]
  },
  {
   "cell_type": "code",
   "execution_count": 4,
   "id": "c9c7be74",
   "metadata": {
    "slideshow": {
     "slide_type": "subslide"
    }
   },
   "outputs": [],
   "source": [
    "class Simulator:\n",
    "    def simulate(pattern, kind):\n",
    "        # simuleringslogikk...\n",
    "        pass\n",
    "    def displayPattern(pattern, index, fractionDigits, color):\n",
    "        # vise sjongleringspattern logikk\n",
    "        pass\n",
    "\n",
    "class BallJugglingSimulator(Simulator):\n",
    "    def simulate(pattern):\n",
    "        # vanlig sjonglering simulering\n",
    "        pass\n",
    "\n",
    "class BounceJugglingSimulator(Simulator):\n",
    "    def simulate(pattern):\n",
    "        # kode her\n",
    "        pass\n",
    "\n",
    "class ClubJugglingSimulator(Simulator):\n",
    "    def simulate(pattern):\n",
    "        # mer kode\n",
    "        pass\n"
   ]
  },
  {
   "cell_type": "markdown",
   "id": "ece11265",
   "metadata": {
    "slideshow": {
     "slide_type": "subslide"
    }
   },
   "source": [
    "![open closed principle](ocp.jpg)"
   ]
  },
  {
   "cell_type": "markdown",
   "id": "ae12d1d7",
   "metadata": {
    "slideshow": {
     "slide_type": "slide"
    }
   },
   "source": [
    "## Liskov Substitution\n",
    "\n",
    "- En basekomponent skal kunne byttes ut med en subkomponent uten å endre måten den fungerer på\n"
   ]
  },
  {
   "cell_type": "markdown",
   "id": "b4af4dd1",
   "metadata": {
    "slideshow": {
     "slide_type": "subslide"
    }
   },
   "source": [
    "![juggling](juggling.jpg)"
   ]
  },
  {
   "cell_type": "code",
   "execution_count": 5,
   "id": "46d85cd7",
   "metadata": {
    "slideshow": {
     "slide_type": "subslide"
    }
   },
   "outputs": [],
   "source": [
    "class JugglingSimulator:\n",
    "    def start_juggling(pattern):\n",
    "        # logikk for simulering ballsjonglering\n",
    "        pass\n",
    "    \n",
    "class ClubJugglingSimulator(JugglingSimulator):\n",
    "    def start_juggling(pattern):\n",
    "        # logikk for å simulere kjeglesjonglering\n",
    "        pass\n",
    "\n",
    "class PlateSpinning(JugglingSimulator):\n",
    "    def start_juggling(pattern):\n",
    "        # ingen sjonglering i tallerkenspinning\n",
    "        pass\n"
   ]
  },
  {
   "cell_type": "markdown",
   "id": "472dbbd8",
   "metadata": {
    "slideshow": {
     "slide_type": "subslide"
    }
   },
   "source": [
    "![plate splinning](platespinning.jpg)\n",
    "\n",
    "Ingen kasting"
   ]
  },
  {
   "cell_type": "code",
   "execution_count": 6,
   "id": "05cc25ab",
   "metadata": {
    "slideshow": {
     "slide_type": "subslide"
    }
   },
   "outputs": [],
   "source": [
    "\n",
    "class JugglingSimulator:\n",
    "    def start_juggling(pattern):\n",
    "        # logikk for simulering ballsjonglering\n",
    "        pass\n",
    "    \n",
    "class ClubJugglingSimulator(JugglingSimulator):\n",
    "    def start_juggling(pattern):\n",
    "        # logikk for simulering kjeglesjonglering\n",
    "        pass\n",
    "\n",
    "class ObjectManipulationSimulator:\n",
    "    def start_manipulation(pattern):\n",
    "        # generell manipulation simulering\n",
    "        pass\n",
    "\n",
    "class PlateSpinning(ObjectManipulationSimulator):\n",
    "    def start_manipulation(pattern):\n",
    "        # spesifikk tallerken spinn sim software\n",
    "        pass"
   ]
  },
  {
   "cell_type": "markdown",
   "id": "87d3738d",
   "metadata": {
    "slideshow": {
     "slide_type": "subslide"
    }
   },
   "source": [
    "![liskov substitution](lsp.jpg)"
   ]
  },
  {
   "cell_type": "markdown",
   "id": "ec92d46c",
   "metadata": {
    "slideshow": {
     "slide_type": "slide"
    }
   },
   "source": [
    "# Interface Segregation\n",
    "\n",
    "- interface størrelse bør være slik at hele interfacet brukes\n"
   ]
  },
  {
   "cell_type": "code",
   "execution_count": 7,
   "id": "40f07a66",
   "metadata": {
    "slideshow": {
     "slide_type": "subslide"
    }
   },
   "outputs": [],
   "source": [
    "\n",
    "class IJugglingSimulator:\n",
    "    def repair_bounce_equipment():\n",
    "        raise NotImplementedError\n",
    "    def repair_club_equipment():\n",
    "        raise NotImplementedError\n",
    "    def repair_air_equipemnt():\n",
    "        raise NotImplementedError\n",
    "\n",
    "        \n",
    "class BounceJugglingSimulator(IJugglingSimulator):\n",
    "    def repair_bounce_equipment():\n",
    "        # implemented\n",
    "        pass\n",
    "    def repair_club_equipment():\n",
    "        # passer ikke inn\n",
    "        pass\n",
    "    def repair_air_equipemnt():\n",
    "        # passer ikke inn\n",
    "        pass\n",
    "    "
   ]
  },
  {
   "cell_type": "code",
   "execution_count": 8,
   "id": "68e6b45b",
   "metadata": {
    "slideshow": {
     "slide_type": "subslide"
    }
   },
   "outputs": [],
   "source": [
    "# bedre med flere små spissede interfacer\n",
    "class IAirJugglingSimulator:\n",
    "    def repair_club_equipment():\n",
    "        raise NotImplementedError\n",
    "        \n",
    "class IClubJugglingSimulator:\n",
    "    def repair_air_equipemnt():\n",
    "        raise NotImplementedError\n",
    "\n",
    "# interface in use\n",
    "class IBounceJugglingSimulator:\n",
    "    def repair_bounce_equipment():\n",
    "        raise NotImplementedError\n",
    "        \n",
    "class BounceJugglingSimulator(IBounceJugglingSimulator):\n",
    "    def repair_bounce_equipment():\n",
    "        # implemented\n",
    "        pass\n",
    "    "
   ]
  },
  {
   "cell_type": "markdown",
   "id": "cbe505dc",
   "metadata": {
    "slideshow": {
     "slide_type": "subslide"
    }
   },
   "source": [
    "![interface segregation](isp.jpg)"
   ]
  },
  {
   "cell_type": "markdown",
   "id": "c8848058",
   "metadata": {
    "slideshow": {
     "slide_type": "slide"
    }
   },
   "source": [
    "# Dependency Inversion Principle\n",
    "\n",
    "- Ha avhengigheter til abstrakte, ikke til konkrete komponenter\n",
    "- Kjernesoftware bør ikke ha avhengigheter til software i ytterpunktene\n",
    "\n",
    "- Eksempel: VS Code\n"
   ]
  },
  {
   "cell_type": "code",
   "execution_count": 9,
   "id": "1e82956e",
   "metadata": {
    "slideshow": {
     "slide_type": "subslide"
    }
   },
   "outputs": [],
   "source": [
    "\n",
    "class GoogleWindApi:\n",
    "    def get_google_wind_data():\n",
    "        pass\n",
    "\n",
    "class Simulator:\n",
    "    def __init__(self, google_wind_api: GoogleWindApi):\n",
    "        self.wind = google_wind_api\n",
    "        \n",
    "    def get_wind_data(self):\n",
    "        return self.wind.get_google_wind_data()\n",
    "    \n",
    "    def simulate(self, pattern, kind):\n",
    "        wind_direction = self.get_wind_data().direction\n",
    "        # bruker vindretning i simulering\n",
    "        pass"
   ]
  },
  {
   "cell_type": "code",
   "execution_count": 10,
   "id": "96c7efb3",
   "metadata": {
    "slideshow": {
     "slide_type": "subslide"
    }
   },
   "outputs": [],
   "source": [
    "\n",
    "class WindApi:\n",
    "    def get_wind_data():\n",
    "        # try get_google_wind()\n",
    "        # try get_amazon_wind()\n",
    "        # try get_azure_wind()\n",
    "        # try get_open_weather_wind()\n",
    "        pass\n",
    "\n",
    "class Simulator:\n",
    "    def __init__(self, wind_api: WindApi):\n",
    "        self.wind_api = wind_api\n",
    "        \n",
    "    def get_wind_data(self):\n",
    "        return self.wind_api.get_wind()\n",
    "    \n",
    "    def simulate(self, pattern, kind):\n",
    "        wind_direction = self.get_wind().direction\n",
    "        # bruker vindretning i simulering\n",
    "        pass\n"
   ]
  },
  {
   "cell_type": "markdown",
   "id": "dcb71fe8",
   "metadata": {
    "slideshow": {
     "slide_type": "subslide"
    }
   },
   "source": [
    "![dip](dip.jpg)"
   ]
  },
  {
   "cell_type": "markdown",
   "id": "706a08ef",
   "metadata": {
    "slideshow": {
     "slide_type": "slide"
    }
   },
   "source": [
    "##  Oppsummering\n",
    "\n",
    "**Software tenderer mot forvitring**\n",
    "\n"
   ]
  },
  {
   "cell_type": "markdown",
   "id": "22925f59",
   "metadata": {
    "slideshow": {
     "slide_type": "fragment"
    }
   },
   "source": [
    "> **Have you ever been too busy driving to stop for gas?\" - Stephen R. Covey**"
   ]
  },
  {
   "cell_type": "markdown",
   "id": "119a0ace",
   "metadata": {
    "slideshow": {
     "slide_type": "subslide"
    }
   },
   "source": [
    "**Software tenderer mot forvitring**\n",
    "\n",
    "\n",
    "![spaghetti](spaghetti.jpg)"
   ]
  },
  {
   "cell_type": "markdown",
   "id": "ea653c4a",
   "metadata": {
    "slideshow": {
     "slide_type": "subslide"
    }
   },
   "source": [
    "**Hvordan praktisk bruke SOLID?**\n",
    "\n",
    "- bry seg om kodebasen\n",
    "- jevnlig følge med på design/arkitetur\n",
    "- jevnlig vedlikeholde design/arkitektur\n",
    "\n"
   ]
  },
  {
   "cell_type": "markdown",
   "id": "14f339e7",
   "metadata": {
    "slideshow": {
     "slide_type": "subslide"
    }
   },
   "source": [
    "### Image Sources:\n",
    "\n",
    "- https://twitter.com/developerkafasi/status/1087607855946125313\n",
    "- https://thedavidmasters.com/2018/10/27/solid-design-principles/\n",
    "- https://laptrinhx.com/solid-software-design-principles-2765436274/\n",
    "- https://exceptionnotfound.net/spaghetti-code-the-daily-software-anti-pattern/\n"
   ]
  }
 ],
 "metadata": {
  "celltoolbar": "Slideshow",
  "kernelspec": {
   "display_name": "Python 3",
   "language": "python",
   "name": "python3"
  },
  "language_info": {
   "codemirror_mode": {
    "name": "ipython",
    "version": 3
   },
   "file_extension": ".py",
   "mimetype": "text/x-python",
   "name": "python",
   "nbconvert_exporter": "python",
   "pygments_lexer": "ipython3",
   "version": "3.8.8"
  }
 },
 "nbformat": 4,
 "nbformat_minor": 5
}
